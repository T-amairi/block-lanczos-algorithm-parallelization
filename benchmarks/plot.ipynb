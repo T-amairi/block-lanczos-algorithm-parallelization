{
 "cells": [
  {
   "cell_type": "code",
   "execution_count": 1,
   "id": "7fff3667",
   "metadata": {},
   "outputs": [],
   "source": [
    "from matplotlib import pyplot as plt\n",
    "import re\n",
    "import csv\n",
    "import numpy as np\n",
    "\n",
    "easy = 3600.0 #1h\n",
    "med = easy * 24 #1d\n",
    "hard = 30 * med #1m\n",
    "hpc = hard * 12 * 5 #5y\n",
    "\n",
    "def toSec(j,h,min,s):\n",
    "    return 24*3600*j + 3600*h + 60*min + s\n",
    "\n",
    "def check(L):\n",
    "    if L:\n",
    "        L = int(L[0])\n",
    "    else:\n",
    "        L = 0\n",
    "    return L\n",
    "\n",
    "def regex(time):\n",
    "    j = check(re.findall(\"(\\d+)(?=\\s*j)\",time))\n",
    "    h = check(re.findall(\"(\\d+)(?=\\s*h)\",time))\n",
    "    min = check(re.findall(\"(\\d+)(?=\\s*min)\",time))\n",
    "    s = check(re.findall(\"(\\d+)(?=\\s*s)\",time))\n",
    "    return toSec(j,h,min,s)"
   ]
  },
  {
   "cell_type": "code",
   "execution_count": 90,
   "id": "0d96a594",
   "metadata": {},
   "outputs": [],
   "source": [
    "dict_openMP = dict()\n",
    "dict_mpi = dict()\n",
    "x = list()\n",
    "\n",
    "with open(\"./mpi_vs_openMP.csv\",\"r\") as f:\n",
    "    reader = csv.reader(f, delimiter = ',')\n",
    "    for row in reader:\n",
    "        challenge = row[0]\n",
    "        nb_th_core = int(row[1])\n",
    "        time_mpi = row[2]\n",
    "        time_openMP = row[3]\n",
    "        if not challenge in dict_openMP:\n",
    "            dict_openMP[challenge] = list()\n",
    "            dict_mpi[challenge] = list()\n",
    "        if not nb_th_core in x:\n",
    "            x.append(nb_th_core)\n",
    "        dict_openMP[challenge].append(regex(time_openMP))\n",
    "        dict_mpi[challenge].append(regex(time_mpi))"
   ]
  },
  {
   "cell_type": "code",
   "execution_count": 91,
   "id": "1742b801",
   "metadata": {},
   "outputs": [
    {
     "data": {
      "text/plain": [
       "<Figure size 720x504 with 0 Axes>"
      ]
     },
     "metadata": {},
     "output_type": "display_data"
    }
   ],
   "source": [
    "plt.figure(figsize=(10,7))\n",
    "default_x_ticks = range(len(x))\n",
    "\n",
    "plt.xticks(default_x_ticks, x)\n",
    "plt.plot(default_x_ticks,np.array(dict_mpi['ez'])/60.0,label=\"MPI\",marker = 'o')\n",
    "plt.plot(default_x_ticks,np.array(dict_openMP['ez'])/60.0,label=\"OpenMP\",marker = '*')\n",
    "plt.xlabel(\"Nombre de coeurs/threads\")\n",
    "plt.ylabel(\"Temps estimé en minute(s)\")\n",
    "plt.title(\"Challenge easy : Temps d'exécution\")\n",
    "plt.legend()\n",
    "plt.savefig('ez_1.png',bbox_inches='tight')\n",
    "plt.clf()\n",
    "\n",
    "plt.xticks(default_x_ticks, x)\n",
    "plt.plot(default_x_ticks,easy / np.array(dict_mpi['ez']),label=\"MPI\",marker = 'o')\n",
    "plt.plot(default_x_ticks,easy / np.array(dict_openMP['ez']),label=\"OpenMP\",marker = '*')\n",
    "plt.plot(default_x_ticks,x,label=\"Optimale\",linestyle = '-.')\n",
    "plt.xlabel(\"Nombre de coeurs/threads\")\n",
    "plt.ylabel(\"Accélération\")\n",
    "plt.title(\"Challenge easy : Accélération\")\n",
    "plt.legend()\n",
    "plt.savefig('acc_ez_1.png',bbox_inches='tight')\n",
    "plt.clf()\n",
    "\n",
    "#######################\n",
    "\n",
    "plt.xticks(default_x_ticks, x)\n",
    "plt.plot(default_x_ticks,np.array(dict_mpi['med'])/3600.0,label=\"MPI\",marker = 'o')\n",
    "plt.plot(default_x_ticks,np.array(dict_openMP['med'])/3600.0,label=\"OpenMP\",marker = '*')\n",
    "plt.xlabel(\"Nombre de coeurs/threads\")\n",
    "plt.ylabel(\"Temps estimé en heure(s)\")\n",
    "plt.title(\"Challenge medium : Temps d'exécution\")\n",
    "plt.legend()\n",
    "plt.savefig('med_1.png',bbox_inches='tight')\n",
    "plt.clf()\n",
    "\n",
    "plt.xticks(default_x_ticks, x)\n",
    "plt.plot(default_x_ticks,med / np.array(dict_mpi['med']),label=\"MPI\",marker = 'o')\n",
    "plt.plot(default_x_ticks,med / np.array(dict_openMP['med']),label=\"OpenMP\",marker = '*')\n",
    "plt.plot(default_x_ticks,x,label=\"Optimale\",linestyle = '-.')\n",
    "plt.xlabel(\"Nombre de coeurs/threads\")\n",
    "plt.ylabel(\"Accélération\")\n",
    "plt.title(\"Challenge medium : Accélération\")\n",
    "plt.legend()\n",
    "plt.savefig('acc_med_1.png',bbox_inches='tight')\n",
    "plt.clf()\n",
    "\n",
    "######################\n",
    "\n",
    "plt.xticks(default_x_ticks, x)\n",
    "plt.plot(default_x_ticks,np.array(dict_mpi['hard'])/(3600.0*24),label=\"MPI\",marker = 'o')\n",
    "plt.plot(default_x_ticks,np.array(dict_openMP['hard'])/(3600.0*24),label=\"OpenMP\",marker = '*')\n",
    "plt.xlabel(\"Nombre de coeurs/threads\")\n",
    "plt.ylabel(\"Temps estimé en jour(s)\")\n",
    "plt.title(\"Challenge hard : Temps d'exécution\")\n",
    "plt.legend()\n",
    "plt.savefig('hard_1.png',bbox_inches='tight')\n",
    "plt.clf()\n",
    "\n",
    "plt.xticks(default_x_ticks, x)\n",
    "plt.plot(default_x_ticks,hard / np.array(dict_mpi['hard']),label=\"MPI\",marker = 'o')\n",
    "plt.plot(default_x_ticks,hard / np.array(dict_openMP['hard']),label=\"OpenMP\",marker = '*')\n",
    "plt.plot(default_x_ticks,x,label=\"Optimale\",linestyle = '-.')\n",
    "plt.xlabel(\"Nombre de coeurs/threads\")\n",
    "plt.ylabel(\"Accélération\")\n",
    "plt.title(\"Challenge hard : Accélération\")\n",
    "plt.legend()\n",
    "plt.savefig('acc_hard_1.png',bbox_inches='tight')\n",
    "plt.clf()"
   ]
  },
  {
   "cell_type": "code",
   "execution_count": 92,
   "id": "032f0232",
   "metadata": {},
   "outputs": [],
   "source": [
    "dict_hybrid = dict()\n",
    "dict_mpi = dict()\n",
    "x = list()\n",
    "\n",
    "with open(\"./mpi_vs_hybrid.csv\",\"r\") as f:\n",
    "    reader = csv.reader(f, delimiter = ',')\n",
    "    for row in reader:\n",
    "        challenge = row[0]\n",
    "        nb_th_core = int(row[1])\n",
    "        time_mpi = row[2]\n",
    "        time_hybrid = row[3]\n",
    "        if not challenge in dict_hybrid:\n",
    "            dict_hybrid[challenge] = list()\n",
    "            dict_mpi[challenge] = list()\n",
    "        if not nb_th_core in x:\n",
    "            x.append(nb_th_core)\n",
    "        dict_hybrid[challenge].append(regex(time_hybrid))\n",
    "        dict_mpi[challenge].append(regex(time_mpi))"
   ]
  },
  {
   "cell_type": "code",
   "execution_count": 93,
   "id": "7e869994",
   "metadata": {},
   "outputs": [
    {
     "data": {
      "text/plain": [
       "<Figure size 720x504 with 0 Axes>"
      ]
     },
     "metadata": {},
     "output_type": "display_data"
    }
   ],
   "source": [
    "plt.figure(figsize=(10,7))\n",
    "default_x_ticks = range(len(x))\n",
    "\n",
    "plt.xticks(default_x_ticks, x)\n",
    "plt.plot(default_x_ticks,np.array(dict_mpi['hard'])/(3600.0),label=\"MPI\",marker = 'o')\n",
    "plt.plot(default_x_ticks,np.array(dict_hybrid['hard'])/(3600.0),label=\"Hybride\",marker = '*')\n",
    "plt.xlabel(\"Nombre de noeuds\")\n",
    "plt.ylabel(\"Temps estimé en heure(s)\")\n",
    "plt.title(\"Challenge hard : Temps d'exécution\")\n",
    "plt.legend()\n",
    "plt.savefig('hard_2.png',bbox_inches='tight')\n",
    "plt.clf()\n",
    "\n",
    "plt.xticks(default_x_ticks, x)\n",
    "plt.plot(default_x_ticks,hard / np.array(dict_mpi['hard']),label=\"MPI\",marker = 'o')\n",
    "plt.plot(default_x_ticks,hard / np.array(dict_hybrid['hard']),label=\"Hybride\",marker = '*')\n",
    "plt.xlabel(\"Nombre de noeuds\")\n",
    "plt.ylabel(\"Accélération\")\n",
    "plt.title(\"Challenge hard : Accélération\")\n",
    "plt.legend()\n",
    "plt.savefig('acc_hard_2.png',bbox_inches='tight')\n",
    "plt.clf()\n",
    "\n",
    "#######################\n",
    "\n",
    "plt.xticks(default_x_ticks, x)\n",
    "plt.plot(default_x_ticks,np.array(dict_mpi['hpc'])/(3600.0*24),label=\"MPI\",marker = 'o')\n",
    "plt.plot(default_x_ticks,np.array(dict_hybrid['hpc'])/(3600.0*24),label=\"Hybride\",marker = '*')\n",
    "plt.xlabel(\"Nombre de noeuds\")\n",
    "plt.ylabel(\"Temps estimé en jour(s)\")\n",
    "plt.title(\"Challenge HPC : Temps d'exécution\")\n",
    "plt.legend()\n",
    "plt.savefig('hpc_2.png',bbox_inches='tight')\n",
    "plt.clf()\n",
    "\n",
    "plt.xticks(default_x_ticks, x)\n",
    "plt.plot(default_x_ticks,hpc / np.array(dict_mpi['hpc']),label=\"MPI\",marker = 'o')\n",
    "plt.plot(default_x_ticks,hpc / np.array(dict_hybrid['hpc']),label=\"Hybride\",marker = '*')\n",
    "plt.xlabel(\"Nombre de noeuds\")\n",
    "plt.ylabel(\"Accélération\")\n",
    "plt.title(\"Challenge HPC : Accélération\")\n",
    "plt.legend()\n",
    "plt.savefig('acc_hpc_1.png',bbox_inches='tight')\n",
    "plt.clf()"
   ]
  },
  {
   "cell_type": "code",
   "execution_count": null,
   "id": "8466bd8f",
   "metadata": {},
   "outputs": [],
   "source": []
  }
 ],
 "metadata": {
  "kernelspec": {
   "display_name": "Python 3.9.7 ('base')",
   "language": "python",
   "name": "python3"
  },
  "language_info": {
   "codemirror_mode": {
    "name": "ipython",
    "version": 3
   },
   "file_extension": ".py",
   "mimetype": "text/x-python",
   "name": "python",
   "nbconvert_exporter": "python",
   "pygments_lexer": "ipython3",
   "version": "3.9.7"
  },
  "vscode": {
   "interpreter": {
    "hash": "69045990d3dc78375658a55f06958203697f8cc4ba97a5aaeef1c60d913a5e7a"
   }
  }
 },
 "nbformat": 4,
 "nbformat_minor": 5
}
